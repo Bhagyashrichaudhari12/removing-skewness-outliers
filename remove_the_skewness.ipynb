{
  "cells": [
    {
      "cell_type": "code",
      "execution_count": null,
      "id": "e0497334",
      "metadata": {
        "id": "e0497334"
      },
      "outputs": [],
      "source": [
        "import pandas as pd\n",
        "from scipy.stats import skew\n",
        "import seaborn as sns\n",
        "import numpy as np\n"
      ]
    },
    {
      "cell_type": "code",
      "execution_count": null,
      "id": "9930e64f",
      "metadata": {
        "id": "9930e64f",
        "outputId": "8790f230-5021-4685-f1f0-e869226c6241"
      },
      "outputs": [
        {
          "data": {
            "text/plain": [
              "1.1005174784761225"
            ]
          },
          "execution_count": 2,
          "metadata": {},
          "output_type": "execute_result"
        }
      ],
      "source": [
        "price=[12345,78654,12786,87657,12765,43564,23451,3456,4563,6785]\n",
        "skew(price)"
      ]
    },
    {
      "cell_type": "code",
      "execution_count": null,
      "id": "01f05dff",
      "metadata": {
        "id": "01f05dff",
        "outputId": "5f047db0-541b-4ae1-db64-d06b4af85c61"
      },
      "outputs": [
        {
          "name": "stderr",
          "output_type": "stream",
          "text": [
            "C:\\Users\\Dell\\anaconda3\\lib\\site-packages\\seaborn\\distributions.py:2619: FutureWarning: `distplot` is a deprecated function and will be removed in a future version. Please adapt your code to use either `displot` (a figure-level function with similar flexibility) or `histplot` (an axes-level function for histograms).\n",
            "  warnings.warn(msg, FutureWarning)\n"
          ]
        },
        {
          "data": {
            "text/plain": [
              "<AxesSubplot:ylabel='Density'>"
            ]
          },
          "execution_count": 3,
          "metadata": {},
          "output_type": "execute_result"
        },
        {
          "data": {
            "image/png": "[encoded data removed]",
            "text/plain": [
              "<Figure size 432x288 with 1 Axes>"
            ]
          },
          "metadata": {
            "needs_background": "light"
          },
          "output_type": "display_data"
        }
      ],
      "source": [
        "sns.distplot(price)"
      ]
    },
    {
      "cell_type": "code",
      "execution_count": null,
      "id": "a6f9e779",
      "metadata": {
        "id": "a6f9e779"
      },
      "outputs": [],
      "source": [
        "log_tans=np.log(np.array(price)) # here we convert the list into array ie 1-D and took its log"
      ]
    },
    {
      "cell_type": "code",
      "execution_count": null,
      "id": "8b499e3f",
      "metadata": {
        "id": "8b499e3f",
        "outputId": "d922b237-c1e2-49ef-a0b3-c4b69e82f79e"
      },
      "outputs": [
        {
          "data": {
            "text/plain": [
              "0.21951693949571546"
            ]
          },
          "execution_count": 5,
          "metadata": {},
          "output_type": "execute_result"
        }
      ],
      "source": [
        "skew(log_tans) # here we apply the log function to reduce the righ skewness"
      ]
    },
    {
      "cell_type": "code",
      "execution_count": null,
      "id": "907ba028",
      "metadata": {
        "id": "907ba028",
        "outputId": "3f0af764-e001-4fc9-b119-c36ed734683f"
      },
      "outputs": [
        {
          "name": "stderr",
          "output_type": "stream",
          "text": [
            "C:\\Users\\Dell\\anaconda3\\lib\\site-packages\\seaborn\\distributions.py:2619: FutureWarning: `distplot` is a deprecated function and will be removed in a future version. Please adapt your code to use either `displot` (a figure-level function with similar flexibility) or `histplot` (an axes-level function for histograms).\n",
            "  warnings.warn(msg, FutureWarning)\n"
          ]
        },
        {
          "data": {
            "text/plain": [
              "<AxesSubplot:ylabel='Density'>"
            ]
          },
          "execution_count": 6,
          "metadata": {},
          "output_type": "execute_result"
        },
        {
          "data": {
            "image/png": "[encoded data removed]",
            "text/plain": [
              "<Figure size 432x288 with 1 Axes>"
            ]
          },
          "metadata": {
            "needs_background": "light"
          },
          "output_type": "display_data"
        }
      ],
      "source": [
        "sns.distplot(log_tans) # here we plot the graph after reducing the right skewness"
      ]
    }
  ],
  "metadata": {
    "kernelspec": {
      "display_name": "Python 3 (ipykernel)",
      "language": "python",
      "name": "python3"
    },
    "language_info": {
      "codemirror_mode": {
        "name": "ipython",
        "version": 3
      },
      "file_extension": ".py",
      "mimetype": "text/x-python",
      "name": "python",
      "nbconvert_exporter": "python",
      "pygments_lexer": "ipython3",
      "version": "3.9.12"
    },
    "colab": {
      "provenance": []
    }
  },
  "nbformat": 4,
  "nbformat_minor": 5
}